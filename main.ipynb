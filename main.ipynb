{
 "cells": [
  {
   "cell_type": "code",
   "execution_count": 14,
   "metadata": {},
   "outputs": [
    {
     "name": "stdout",
     "output_type": "stream",
     "text": [
      "Failed to retrieve the secret key.\n"
     ]
    }
   ],
   "source": [
    "import os\n",
    "\n",
    "# Access the secret\n",
    "secret_key = os.getenv(\"MY_OPENAIKEY\")\n",
    "\n",
    "if secret_key:\n",
    "    print(\"Secret key successfully retrieved.\")\n",
    "else:\n",
    "    print(\"Failed to retrieve the secret key.\")"
   ]
  }
 ],
 "metadata": {
  "kernelspec": {
   "display_name": "Python 3",
   "language": "python",
   "name": "python3"
  },
  "language_info": {
   "codemirror_mode": {
    "name": "ipython",
    "version": 3
   },
   "file_extension": ".py",
   "mimetype": "text/x-python",
   "name": "python",
   "nbconvert_exporter": "python",
   "pygments_lexer": "ipython3",
   "version": "3.12.1"
  }
 },
 "nbformat": 4,
 "nbformat_minor": 2
}
